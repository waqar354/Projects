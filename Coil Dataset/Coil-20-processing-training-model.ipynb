{
 "cells": [
  {
   "cell_type": "code",
   "execution_count": null,
   "metadata": {},
   "outputs": [],
   "source": []
  },
  {
   "cell_type": "code",
   "execution_count": null,
   "metadata": {},
   "outputs": [],
   "source": []
  },
  {
   "cell_type": "code",
   "execution_count": 1,
   "metadata": {
    "scrolled": true
   },
   "outputs": [
    {
     "name": "stderr",
     "output_type": "stream",
     "text": [
      "Using TensorFlow backend.\n"
     ]
    },
    {
     "data": {
      "text/plain": [
       "'2.3.1'"
      ]
     },
     "execution_count": 1,
     "metadata": {},
     "output_type": "execute_result"
    }
   ],
   "source": [
    "import os\n",
    "import shutil\n",
    "\n",
    "import keras\n",
    "keras.__version__\n"
   ]
  },
  {
   "cell_type": "code",
   "execution_count": 2,
   "metadata": {},
   "outputs": [],
   "source": [
    "org_dir = 'coil-20-unproc'"
   ]
  },
  {
   "cell_type": "code",
   "execution_count": null,
   "metadata": {},
   "outputs": [],
   "source": [
    "#Base Directory of Data Processed\n",
    "baseDirectory = 'coil20_proc'\n",
    "if not ((os.path.exists(baseDirectory))):\n",
    "    os.mkdir(baseDirectory)"
   ]
  },
  {
   "cell_type": "code",
   "execution_count": null,
   "metadata": {},
   "outputs": [],
   "source": [
    "#Trainig Data Directory\n",
    "trainigDirectory = os.path.join(baseDirectory,'train')\n",
    "os.mkdir (trainigDirectory)"
   ]
  },
  {
   "cell_type": "code",
   "execution_count": null,
   "metadata": {},
   "outputs": [],
   "source": [
    "#Testing Data Directory\n",
    "testDirectory = os.path.join(baseDirectory,'test')\n",
    "os.mkdir(testDirectory)"
   ]
  },
  {
   "cell_type": "code",
   "execution_count": null,
   "metadata": {},
   "outputs": [],
   "source": [
    "#Validation Data Directory\n",
    "validationDirectory= os.path.join(baseDirectory,'validate')\n",
    "os.mkdir(validationDirectory)"
   ]
  },
  {
   "cell_type": "code",
   "execution_count": null,
   "metadata": {},
   "outputs": [],
   "source": []
  },
  {
   "cell_type": "code",
   "execution_count": 3,
   "metadata": {},
   "outputs": [],
   "source": [
    "#-------------------------------------Training----------------------------------------------#\n",
    "\n",
    "#directory for the photos of object 1 (training)\n",
    "trainigDirectory_obj1 = os.path.join(trainigDirectory,'object1')\n",
    "os.mkdir(trainigDirectory_obj1)\n",
    "\n",
    "#directory for the photos of the object2 (training)\n",
    "trainigDirectory_obj2 = os.path.join(trainigDirectory,'object2')\n",
    "os.mkdir(trainigDirectory_obj2)\n",
    "\n",
    "#directory for the photos of the object3 (training)\n",
    "trainigDirectory_obj3 = os.path.join(trainigDirectory,'object3')\n",
    "os.mkdir(trainigDirectory_obj3)\n",
    "\n",
    "#directory for the photos of the object2 (training)\n",
    "trainigDirectory_obj4 = os.path.join(trainigDirectory,'object4')\n",
    "os.mkdir(trainigDirectory_obj4)\n",
    "\n",
    "#directory for the photos of the object2 (training)\n",
    "trainigDirectory_obj5 = os.path.join(trainigDirectory,'object5')\n",
    "os.mkdir(trainigDirectory_obj5)\n",
    "\n",
    "#------------------------------Validating--------------------------------------------------#\n",
    "\n",
    "#directory for the photos of object 1 (validating)\n",
    "validate_dir_obj1 = os.path.join(validate_dir,'object1')\n",
    "os.mkdir(validate_dir_obj1)\n",
    "\n",
    "#directory for the photos of the object2 (validating)\n",
    "validate_dir_obj2 = os.path.join(validate_dir,'object2')\n",
    "os.mkdir(validate_dir_obj2)\n",
    "\n",
    "#directory for the photos of the object3 (validating)\n",
    "validate_dir_obj3 = os.path.join(validate_dir,'object3')\n",
    "os.mkdir(validate_dir_obj3)\n",
    "\n",
    "#directory for the photos of the object2 (validating)\n",
    "validate_dir_obj4 = os.path.join(validate_dir,'object4')\n",
    "os.mkdir(validate_dir_obj4)\n",
    "\n",
    "#directory for the photos of the object2 (validating)\n",
    "validate_dir_obj5 = os.path.join(validate_dir,'object5')\n",
    "os.mkdir(validate_dir_obj5)\n",
    "\n",
    "#----------------------------------------Testing-----------------------------------------------#\n",
    "\n",
    "#directory for the photos of object 1 (testing)\n",
    "testDirectory_obj1 = os.path.join(testDirectory,'object1')\n",
    "os.mkdir(testDirectory_obj1)\n",
    "\n",
    "#directory for the photos of the object2 (testing)\n",
    "testDirectory_obj2 = os.path.join(testDirectory,'object2')\n",
    "os.mkdir(testDirectory_obj2)\n",
    "\n",
    "#directory for the photos of the object3 (testing)\n",
    "testDirectory_obj3 = os.path.join(testDirectory,'object3')\n",
    "os.mkdir(testDirectory_obj3)\n",
    "\n",
    "#directory for the photos of the object2 (testing)\n",
    "testDirectory_obj4 = os.path.join(testDirectory,'object4')\n",
    "os.mkdir(testDirectory_obj4)\n",
    "\n",
    "#directory for the photos of the object2 (testing)\n",
    "testDirectory_obj5 = os.path.join(testDirectory,'object5')\n",
    "os.mkdir(testDirectory_obj5)"
   ]
  },
  {
   "cell_type": "code",
   "execution_count": 4,
   "metadata": {},
   "outputs": [],
   "source": [
    "#copy first 57 pictures of object1 to train_dir_obj1\n",
    "fnames = ['obj1__{}.png'.format(i) for i in range(58)]\n",
    "for fname in fnames:\n",
    "    src = os.path.join(original_dataset_dir,fname)\n",
    "    dest = os.path.join(train_dir_obj1,fname)\n",
    "    shutil.copy(src,dest)\n",
    "\n",
    "#copy next 8 pictures of object1 to validate_dir_obj1\n",
    "fnames = ['obj1__{}.png'.format(i) for i in range(58,65)]\n",
    "for fname in fnames:\n",
    "    src = os.path.join(original_dataset_dir,fname)\n",
    "    dest = os.path.join(validate_dir_obj1,fname)\n",
    "    shutil.copy(src,dest)\n",
    "\n",
    "#copy next 7 images of object1 to test_dir_obj1\n",
    "fnames = ['obj1__{}.png'.format(i) for i in range(65,72)]\n",
    "for fname in fnames:\n",
    "    src = os.path.join(original_dataset_dir,fname)\n",
    "    dest = os.path.join(test_dir_obj1,fname)\n",
    "    shutil.copy(src,dest)\n",
    "#-----------------------------------------------------------------------------------\n",
    "\n",
    "#copy first 57 pictures of object1 to train_dir_obj1\n",
    "fnames = ['obj2__{}.png'.format(i) for i in range(58)]\n",
    "for fname in fnames:\n",
    "    src = os.path.join(original_dataset_dir,fname)\n",
    "    dest = os.path.join(train_dir_obj2,fname)\n",
    "    shutil.copy(src,dest)\n",
    "\n",
    "#copy next 8 pictures of object1 to validate_dir_obj1\n",
    "fnames = ['obj2__{}.png'.format(i) for i in range(58,65)]\n",
    "for fname in fnames:\n",
    "    src = os.path.join(original_dataset_dir,fname)\n",
    "    dest = os.path.join(validate_dir_obj2,fname)\n",
    "    shutil.copy(src,dest)\n",
    "\n",
    "#copy next 7 images of object1 to test_dir_obj1\n",
    "fnames = ['obj2__{}.png'.format(i) for i in range(65,72)]\n",
    "for fname in fnames:\n",
    "    src = os.path.join(original_dataset_dir,fname)\n",
    "    dest = os.path.join(test_dir_obj2,fname)\n",
    "    shutil.copy(src,dest)\n",
    "#-----------------------------------------------------------------------------------\n",
    "\n",
    "#copy first 57 pictures of object1 to train_dir_obj1\n",
    "fnames = ['obj3__{}.png'.format(i) for i in range(58)]\n",
    "for fname in fnames:\n",
    "    src = os.path.join(original_dataset_dir,fname)\n",
    "    dest = os.path.join(train_dir_obj3,fname)\n",
    "    shutil.copy(src,dest)\n",
    "\n",
    "#copy next 8 pictures of object1 to validate_dir_obj1\n",
    "fnames = ['obj3__{}.png'.format(i) for i in range(58,65)]\n",
    "for fname in fnames:\n",
    "    src = os.path.join(original_dataset_dir,fname)\n",
    "    dest = os.path.join(validate_dir_obj3,fname)\n",
    "    shutil.copy(src,dest)\n",
    "\n",
    "#copy next 7 images of object1 to test_dir_obj1\n",
    "fnames = ['obj3__{}.png'.format(i) for i in range(65,72)]\n",
    "for fname in fnames:\n",
    "    src = os.path.join(original_dataset_dir,fname)\n",
    "    dest = os.path.join(test_dir_obj3,fname)\n",
    "    shutil.copy(src,dest)\n",
    "#-----------------------------------------------------------------------------------\n",
    "\n",
    "#copy first 57 pictures of object1 to train_dir_obj1\n",
    "fnames = ['obj4__{}.png'.format(i) for i in range(58)]\n",
    "for fname in fnames:\n",
    "    src = os.path.join(original_dataset_dir,fname)\n",
    "    dest = os.path.join(train_dir_obj4,fname)\n",
    "    shutil.copy(src,dest)\n",
    "\n",
    "#copy next 8 pictures of object1 to validate_dir_obj1\n",
    "fnames = ['obj4__{}.png'.format(i) for i in range(58,65)]\n",
    "for fname in fnames:\n",
    "    src = os.path.join(original_dataset_dir,fname)\n",
    "    dest = os.path.join(validate_dir_obj4,fname)\n",
    "    shutil.copy(src,dest)\n",
    "\n",
    "#copy next 7 images of object1 to test_dir_obj1\n",
    "fnames = ['obj4__{}.png'.format(i) for i in range(65,72)]\n",
    "for fname in fnames:\n",
    "    src = os.path.join(original_dataset_dir,fname)\n",
    "    dest = os.path.join(test_dir_obj4,fname)\n",
    "    shutil.copy(src,dest)\n",
    "#-----------------------------------------------------------------------------------\n",
    "\n",
    "#copy first 57 pictures of object1 to train_dir_obj1\n",
    "fnames = ['obj5__{}.png'.format(i) for i in range(58)]\n",
    "for fname in fnames:\n",
    "    src = os.path.join(original_dataset_dir,fname)\n",
    "    dest = os.path.join(train_dir_obj5,fname)\n",
    "    shutil.copy(src,dest)\n",
    "\n",
    "#copy next 8 pictures of object1 to validate_dir_obj1\n",
    "fnames = ['obj5__{}.png'.format(i) for i in range(58,65)]\n",
    "for fname in fnames:\n",
    "    src = os.path.join(original_dataset_dir,fname)\n",
    "    dest = os.path.join(validate_dir_obj5,fname)\n",
    "    shutil.copy(src,dest)\n",
    "\n",
    "#copy next 7 images of object1 to test_dir_obj1\n",
    "fnames = ['obj5__{}.png'.format(i) for i in range(65,72)]\n",
    "for fname in fnames:\n",
    "    src = os.path.join(original_dataset_dir,fname)\n",
    "    dest = os.path.join(test_dir_obj5,fname)\n",
    "    shutil.copy(src,dest)\n"
   ]
  },
  {
   "cell_type": "code",
   "execution_count": 5,
   "metadata": {},
   "outputs": [
    {
     "name": "stdout",
     "output_type": "stream",
     "text": [
      "WARNING:tensorflow:From /home/mr-robot/anaconda3/lib/python3.7/site-packages/keras/backend/tensorflow_backend.py:4070: The name tf.nn.max_pool is deprecated. Please use tf.nn.max_pool2d instead.\n",
      "\n"
     ]
    }
   ],
   "source": [
    "from keras import layers\n",
    "from keras import models\n",
    "\n",
    "model = models.Sequential()\n",
    "model.add(layers.Conv2D(32, (3,3), activation='relu', input_shape=(150,150,3)))\n",
    "model.add(layers.MaxPooling2D((2,2)))\n",
    "model.add(layers.Conv2D(64, (3, 3), activation='relu'))\n",
    "model.add(layers.MaxPooling2D((2, 2)))\n",
    "model.add(layers.Conv2D(128, (3, 3), activation='relu'))\n",
    "model.add(layers.MaxPooling2D((2, 2)))\n",
    "model.add(layers.Conv2D(128, (3, 3), activation='relu'))\n",
    "model.add(layers.MaxPooling2D((2, 2)))\n",
    "model.add(layers.Flatten())\n",
    "model.add(layers.Dense(512, activation='relu'))\n",
    "model.add(layers.Dense(5, activation='softmax'))\n"
   ]
  },
  {
   "cell_type": "code",
   "execution_count": 6,
   "metadata": {},
   "outputs": [
    {
     "name": "stdout",
     "output_type": "stream",
     "text": [
      "Model: \"sequential_1\"\n",
      "_________________________________________________________________\n",
      "Layer (type)                 Output Shape              Param #   \n",
      "=================================================================\n",
      "conv2d_1 (Conv2D)            (None, 148, 148, 32)      896       \n",
      "_________________________________________________________________\n",
      "max_pooling2d_1 (MaxPooling2 (None, 74, 74, 32)        0         \n",
      "_________________________________________________________________\n",
      "conv2d_2 (Conv2D)            (None, 72, 72, 64)        18496     \n",
      "_________________________________________________________________\n",
      "max_pooling2d_2 (MaxPooling2 (None, 36, 36, 64)        0         \n",
      "_________________________________________________________________\n",
      "conv2d_3 (Conv2D)            (None, 34, 34, 128)       73856     \n",
      "_________________________________________________________________\n",
      "max_pooling2d_3 (MaxPooling2 (None, 17, 17, 128)       0         \n",
      "_________________________________________________________________\n",
      "conv2d_4 (Conv2D)            (None, 15, 15, 128)       147584    \n",
      "_________________________________________________________________\n",
      "max_pooling2d_4 (MaxPooling2 (None, 7, 7, 128)         0         \n",
      "_________________________________________________________________\n",
      "flatten_1 (Flatten)          (None, 6272)              0         \n",
      "_________________________________________________________________\n",
      "dense_1 (Dense)              (None, 512)               3211776   \n",
      "_________________________________________________________________\n",
      "dense_2 (Dense)              (None, 5)                 2565      \n",
      "=================================================================\n",
      "Total params: 3,455,173\n",
      "Trainable params: 3,455,173\n",
      "Non-trainable params: 0\n",
      "_________________________________________________________________\n"
     ]
    }
   ],
   "source": [
    "model.summary()"
   ]
  },
  {
   "cell_type": "code",
   "execution_count": 7,
   "metadata": {},
   "outputs": [],
   "source": [
    "from keras import optimizers\n",
    "\n",
    "model.compile(loss='categorical_crossentropy',\n",
    "              optimizer='rmsprop',\n",
    "              metrics=['acc'])"
   ]
  },
  {
   "cell_type": "code",
   "execution_count": 8,
   "metadata": {},
   "outputs": [
    {
     "name": "stdout",
     "output_type": "stream",
     "text": [
      "Found 290 images belonging to 5 classes.\n",
      "Found 35 images belonging to 5 classes.\n"
     ]
    }
   ],
   "source": [
    "from keras.preprocessing.image import ImageDataGenerator\n",
    "\n",
    "# All images will be rescaled by 1./255\n",
    "train_datagen = ImageDataGenerator(rescale=1./255)\n",
    "test_datagen = ImageDataGenerator(rescale=1./255)\n",
    "\n",
    "train_generator = train_datagen.flow_from_directory(\n",
    "        # This is the target directory\n",
    "        train_dir,\n",
    "        # All images will be resized to 150x150\n",
    "        target_size=(150, 150),\n",
    "        batch_size=10,\n",
    "        # Since we use categorical_crossentropy loss, we need categorical labels\n",
    "        class_mode='categorical')\n",
    "\n",
    "validation_generator = test_datagen.flow_from_directory(\n",
    "        validate_dir,\n",
    "        target_size=(150, 150),\n",
    "        batch_size=10,\n",
    "        class_mode='categorical')"
   ]
  },
  {
   "cell_type": "code",
   "execution_count": 9,
   "metadata": {},
   "outputs": [
    {
     "name": "stdout",
     "output_type": "stream",
     "text": [
      "WARNING:tensorflow:From /home/mr-robot/anaconda3/lib/python3.7/site-packages/keras/backend/tensorflow_backend.py:422: The name tf.global_variables is deprecated. Please use tf.compat.v1.global_variables instead.\n",
      "\n",
      "Epoch 1/5\n",
      "5/5 [==============================] - 3s 574ms/step - loss: 2.0639 - acc: 0.3600 - val_loss: 1.2492 - val_acc: 0.6500\n",
      "Epoch 2/5\n",
      "5/5 [==============================] - 2s 348ms/step - loss: 0.9160 - acc: 0.6200 - val_loss: 0.2658 - val_acc: 0.9333\n",
      "Epoch 3/5\n",
      "5/5 [==============================] - 2s 365ms/step - loss: 0.0850 - acc: 0.9800 - val_loss: 0.3033 - val_acc: 0.8000\n",
      "Epoch 4/5\n",
      "5/5 [==============================] - 2s 349ms/step - loss: 0.0079 - acc: 1.0000 - val_loss: 0.0963 - val_acc: 1.0000\n",
      "Epoch 5/5\n",
      "5/5 [==============================] - 2s 361ms/step - loss: 0.0066 - acc: 1.0000 - val_loss: 7.4973e-04 - val_acc: 1.0000\n"
     ]
    }
   ],
   "source": [
    "history = model.fit_generator(\n",
    "      train_generator,\n",
    "      steps_per_epoch=5,\n",
    "      epochs=5,\n",
    "      validation_data=validation_generator,\n",
    "      validation_steps=2)"
   ]
  },
  {
   "cell_type": "code",
   "execution_count": 10,
   "metadata": {},
   "outputs": [],
   "source": [
    "model.save('objects.h5')"
   ]
  },
  {
   "cell_type": "code",
   "execution_count": 13,
   "metadata": {},
   "outputs": [
    {
     "data": {
      "image/png": "[encoded data removed]",
      "text/plain": [
       "<Figure size 432x288 with 1 Axes>"
      ]
     },
     "metadata": {
      "needs_background": "light"
     },
     "output_type": "display_data"
    },
    {
     "data": {
      "image/png": "[encoded data removed]",
      "text/plain": [
       "<Figure size 432x288 with 1 Axes>"
      ]
     },
     "metadata": {
      "needs_background": "light"
     },
     "output_type": "display_data"
    }
   ],
   "source": [
    "import matplotlib.pyplot as plt\n",
    "\n",
    "acc = history.history['acc']\n",
    "val_acc = history.history['val_acc']\n",
    "loss = history.history['loss']\n",
    "val_loss = history.history['val_loss']\n",
    "\n",
    "epochs = range(len(acc))\n",
    "\n",
    "plt.plot(epochs, acc, 'bo', label='Training acc')\n",
    "plt.plot(epochs, val_acc, 'b', label='Validation_acc')\n",
    "plt.title('Training and validation accuracy')\n",
    "plt.legend()\n",
    "\n",
    "plt.figure()\n",
    "\n",
    "plt.plot(epochs, loss, 'bo', label='Training loss')\n",
    "plt.plot(epochs, val_loss, 'b', label='Validation loss')\n",
    "plt.title('Training and validation loss')\n",
    "plt.legend()\n",
    "\n",
    "plt.show()"
   ]
  },
  {
   "cell_type": "code",
   "execution_count": 12,
   "metadata": {},
   "outputs": [
    {
     "name": "stdout",
     "output_type": "stream",
     "text": [
      "[4]\n"
     ]
    }
   ],
   "source": [
    "#prediction\n",
    "import numpy as np\n",
    "from tensorflow.keras.models import load_model\n",
    "import numpy as np\n",
    "from keras.preprocessing.image import load_img\n",
    "from keras.preprocessing.image import img_to_array\n",
    "classifier = load_model('objects.h5')\n",
    "\n",
    "# load the image\n",
    "img = load_img('obj5__test.png', target_size=(150, 150))\n",
    "# convert to array\n",
    "img = img_to_array(img)\n",
    "# reshape into a single sample with 3 channels\n",
    "img = img.flatten().reshape(1,150,150,3)\n",
    "# center pixel data\n",
    "img = img.astype('float32')\n",
    "result = classifier.predict_classes(img)\n",
    "print(result)"
   ]
  },
  {
   "cell_type": "code",
   "execution_count": null,
   "metadata": {},
   "outputs": [],
   "source": []
  }
 ],
 "metadata": {
  "kernelspec": {
   "display_name": "Python 3",
   "language": "python",
   "name": "python3"
  },
  "language_info": {
   "codemirror_mode": {
    "name": "ipython",
    "version": 3
   },
   "file_extension": ".py",
   "mimetype": "text/x-python",
   "name": "python",
   "nbconvert_exporter": "python",
   "pygments_lexer": "ipython3",
   "version": "3.7.1"
  }
 },
 "nbformat": 4,
 "nbformat_minor": 2
}
